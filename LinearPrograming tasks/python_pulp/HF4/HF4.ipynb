{
 "cells": [
  {
   "cell_type": "code",
   "execution_count": 1,
   "id": "eb095d07",
   "metadata": {},
   "outputs": [
    {
     "name": "stderr",
     "output_type": "stream",
     "text": [
      "C:\\Users\\Csoni\\AppData\\Roaming\\Python\\Python39\\site-packages\\pulp\\pulp.py:1352: UserWarning: Spaces are not permitted in the name. Converted to '_'\n",
      "  warnings.warn(\"Spaces are not permitted in the name. Converted to '_'\")\n"
     ]
    }
   ],
   "source": [
    "from pulp import *\n",
    "import numpy as np\n",
    "import pandas as pd\n",
    "model = LpProblem(\"SCheduling task\", LpMinimize)"
   ]
  },
  {
   "cell_type": "code",
   "execution_count": 2,
   "id": "c08c6a0f",
   "metadata": {},
   "outputs": [
    {
     "name": "stdout",
     "output_type": "stream",
     "text": [
      "['Anna' 'Barna' 'Cecil' 'Domonkos' 'Eszter' 'Ferenc' 'Gergely' 'Huba'\n",
      " 'Ilona' 'Janka' 'Kelemen' 'Lajos' 'Márta' 'Nóra' 'Olívia' 'Péter'\n",
      " 'Róbert' 'Sámuel' 'Tibor' 'Ubul']\n"
     ]
    }
   ],
   "source": [
    "#Read\n",
    "\n",
    "df = pd.read_excel (r'Grace klinika.xlsx')\n",
    "df_new1, df_new2 = pd.DataFrame(np.array(df.head(20))[:,1:]), pd.DataFrame(np.array(df.tail(len(df)-22))[1:,1:],np.array(df.tail(len(df)-22))[1:,0],np.array(df.tail(len(df)-22))[0,1:])\n",
    "PG,GD=np.array(df_new1),np.array(df_new2)\n",
    "P_index=np.array(df.head(20))[:,0]\n",
    "G_index=np.array(df.tail(len(df)-22))[1:,0]\n",
    "O_index=np.array(df.tail(len(df)-22))[0,1:]\n",
    "\n",
    "\n",
    "for k1,e in enumerate(PG):\n",
    "    for k2,e2 in enumerate(e):\n",
    "        if np.isnan(e2):\n",
    "            PG[k1,k2]=1\n",
    "\n",
    "for k1,e in enumerate(GD):\n",
    "    for k2,e2 in enumerate(e):\n",
    "        if np.isnan(e2):\n",
    "            GD[k1,k2]=1\n",
    "            \n",
    "print(P_index)\n",
    "    "
   ]
  },
  {
   "cell_type": "code",
   "execution_count": 3,
   "id": "635ac71d",
   "metadata": {},
   "outputs": [],
   "source": [
    "#Creat variable\n",
    "\n",
    "#Doctors\n",
    "indexes=[str([i,m,n]) for i in range(40) for m in range(3) for n in range(7)]\n",
    "var_o = LpVariable.dicts(\"O\", indexes, cat=\"Integer\", lowBound=0,upBound=1)\n",
    "\n",
    "#Patient\n",
    "indexes=[str([i,m,n]) for i in range(40) for m in range(3) for n in range(20)]\n",
    "var_p = LpVariable.dicts(\"P\", indexes, cat=\"Integer\", lowBound=0,upBound=1)\n",
    "\n",
    "#Machines\n",
    "indexes=[str([i,m,n]) for i in range(40) for m in range(3) for n in range(9)]\n",
    "var_g = LpVariable.dicts(\"G\", indexes, cat=\"Integer\", lowBound=0,upBound=1)\n",
    "\n",
    "#Value to optimise\n",
    "var_opt=LpVariable.dicts(\"X\",[0],lowBound=0,upBound=60)"
   ]
  },
  {
   "cell_type": "code",
   "execution_count": 4,
   "id": "75ee4cff",
   "metadata": {
    "scrolled": true
   },
   "outputs": [],
   "source": [
    "#Boundaries\n",
    "\n",
    "#Mindenki páciens legyen műtve\n",
    "for n in range(20):\n",
    "    model +=  lpSum(var_p[str([i,m,n])] for i in range(40) for m in range(3))==1"
   ]
  },
  {
   "cell_type": "code",
   "execution_count": 5,
   "id": "4ca4a04f",
   "metadata": {},
   "outputs": [],
   "source": [
    "# Minden műtőben 1 páciens 2 doktor v SD\n",
    "for i in range(40): \n",
    "    for m in range(3):\n",
    "        model +=  lpSum(var_p[str([i,m,n])] for n in range(20))<=1\n",
    "        model +=  2*lpSum(var_p[str([i,m,n])] for n in range(20))<=lpSum(var_o[str([i,m,n])] for n in range(1,7))+2*var_o[str([i,m,0])]\n",
    "\n",
    "        #Minden páciens mellett van bent gép\n",
    "        model += lpSum(var_g[str([i,m,g])] for g in range(9))>=lpSum(var_p[str([i,m,n])] for n in range(20))"
   ]
  },
  {
   "cell_type": "code",
   "execution_count": 6,
   "id": "13b5497c",
   "metadata": {},
   "outputs": [],
   "source": [
    "# Minden gép 2 időegységet takarítva <-> 3 időegységenként legf 1 használat\n",
    "for i in range(38):\n",
    "    for n in range(9):\n",
    "        model += lpSum(var_g[str([i+j,m,n])] for j in range(3) for m in range(3))<=1\n",
    "        \n",
    "# Doktor egyszerre egy helyen lehet\n",
    "for n in range(7):\n",
    "    for i in range(40):\n",
    "        model += lpSum(var_o[str([i,m,n])] for m in range(3))<=1\n",
    "\n",
    "for m in range(3):\n",
    "    for i in range(40):\n",
    "        model += lpSum(var_o[str([i,m,n])] for n in range(1,7))+2*var_o[str([i,m,0])]<=2\n",
    "        \n",
    "        \n",
    "# Gépek szükségességi feltételei\n",
    "\n",
    "for n in range(20):\n",
    "    for m in range(3):\n",
    "        #for i in range(40):\n",
    "            for g in range(9):\n",
    "                model += var_g[str([i,m,g])]<=  PG[n][g]\n",
    "                model += var_g[str([i,m,g])] <= lpSum(var_o[str([i,m,o])]*GD[g][o] for o in range(7))\n",
    "       \n",
    "for n in range(20):\n",
    "    for i in range(40):\n",
    "        model += var_opt[0]>= (i+1)*lpSum(var_p[str([i,m,n])] for m in range(3))\n",
    "model += var_opt[0]\n"
   ]
  },
  {
   "cell_type": "code",
   "execution_count": 7,
   "id": "e585fb46",
   "metadata": {},
   "outputs": [],
   "source": [
    "#model.writeLP(\"HF4.lp\")"
   ]
  },
  {
   "cell_type": "code",
   "execution_count": 8,
   "id": "b4289bd3",
   "metadata": {},
   "outputs": [
    {
     "data": {
      "text/plain": [
       "['CPLEX_CMD', 'CPLEX_PY', 'PULP_CBC_CMD']"
      ]
     },
     "execution_count": 8,
     "metadata": {},
     "output_type": "execute_result"
    }
   ],
   "source": [
    "listSolvers(onlyAvailable=True)"
   ]
  },
  {
   "cell_type": "code",
   "execution_count": 9,
   "id": "a97f6987",
   "metadata": {
    "scrolled": true
   },
   "outputs": [
    {
     "name": "stdout",
     "output_type": "stream",
     "text": [
      "5.59 s ± 274 ms per loop (mean ± std. dev. of 7 runs, 1 loop each)\n"
     ]
    }
   ],
   "source": [
    "solver = getSolver('PULP_CBC_CMD')\n",
    "%timeit model.solve()"
   ]
  },
  {
   "cell_type": "code",
   "execution_count": 10,
   "id": "461de7d7",
   "metadata": {
    "scrolled": true
   },
   "outputs": [
    {
     "name": "stdout",
     "output_type": "stream",
     "text": [
      "5.61 s ± 234 ms per loop (mean ± std. dev. of 7 runs, 1 loop each)\n"
     ]
    }
   ],
   "source": [
    "solver = getSolver('CPLEX_PY')\n",
    "%timeit model.solve()"
   ]
  },
  {
   "cell_type": "code",
   "execution_count": 11,
   "id": "34ff65ef",
   "metadata": {},
   "outputs": [
    {
     "name": "stdout",
     "output_type": "stream",
     "text": [
      "5.7 s ± 389 ms per loop (mean ± std. dev. of 7 runs, 1 loop each)\n"
     ]
    }
   ],
   "source": [
    "solver = getSolver('CPLEX_CMD')\n",
    "%timeit model.solve()"
   ]
  },
  {
   "cell_type": "code",
   "execution_count": 12,
   "id": "68225985",
   "metadata": {
    "scrolled": true
   },
   "outputs": [
    {
     "name": "stdout",
     "output_type": "stream",
     "text": [
      "A szükséges minimális idő:7.0\n"
     ]
    }
   ],
   "source": [
    "print(\"A szükséges minimális idő: \"+str(model.objective.value()))"
   ]
  },
  {
   "cell_type": "code",
   "execution_count": 13,
   "id": "a3633b43",
   "metadata": {},
   "outputs": [
    {
     "name": "stdout",
     "output_type": "stream",
     "text": [
      "Páciensek beosztása: \n",
      "\n",
      "Anna az 1. időpontban menjen az 2. műtőbe\n",
      "Barna az 3. időpontban menjen az 1. műtőbe\n",
      "Cecil az 3. időpontban menjen az 3. műtőbe\n",
      "Domonkos az 7. időpontban menjen az 1. műtőbe\n",
      "Eszter az 2. időpontban menjen az 3. műtőbe\n",
      "Ferenc az 1. időpontban menjen az 1. műtőbe\n",
      "Gergely az 5. időpontban menjen az 2. műtőbe\n",
      "Huba az 5. időpontban menjen az 3. műtőbe\n",
      "Ilona az 3. időpontban menjen az 2. műtőbe\n",
      "Janka az 7. időpontban menjen az 2. műtőbe\n",
      "Kelemen az 4. időpontban menjen az 1. műtőbe\n",
      "Lajos az 4. időpontban menjen az 2. műtőbe\n",
      "Márta az 5. időpontban menjen az 1. műtőbe\n",
      "Nóra az 2. időpontban menjen az 2. műtőbe\n",
      "Olívia az 6. időpontban menjen az 2. műtőbe\n",
      "Péter az 7. időpontban menjen az 3. műtőbe\n",
      "Róbert az 6. időpontban menjen az 1. műtőbe\n",
      "Sámuel az 4. időpontban menjen az 3. műtőbe\n",
      "Tibor az 2. időpontban menjen az 1. műtőbe\n",
      "Ubul az 6. időpontban menjen az 3. műtőbe\n",
      "\n",
      "\n",
      " Az orvosok beosztása: \n",
      "\n",
      "SD az 1. időpontban menjen az 3. műtőbe\n",
      "SD az 2. időpontban menjen az 2. műtőbe\n",
      "SD az 3. időpontban menjen az 2. műtőbe\n",
      "SD az 4. időpontban menjen az 1. műtőbe\n",
      "SD az 5. időpontban menjen az 3. műtőbe\n",
      "SD az 6. időpontban menjen az 3. műtőbe\n",
      "SD az 7. időpontban menjen az 1. műtőbe\n",
      "D1 az 1. időpontban menjen az 1. műtőbe\n",
      "D1 az 2. időpontban menjen az 3. műtőbe\n",
      "D1 az 3. időpontban menjen az 1. műtőbe\n",
      "D1 az 5. időpontban menjen az 1. műtőbe\n",
      "D1 az 6. időpontban menjen az 1. műtőbe\n",
      "D1 az 7. időpontban menjen az 3. műtőbe\n",
      "D2 az 1. időpontban menjen az 1. műtőbe\n",
      "D2 az 2. időpontban menjen az 1. műtőbe\n",
      "D2 az 3. időpontban menjen az 1. műtőbe\n",
      "D2 az 4. időpontban menjen az 2. műtőbe\n",
      "D2 az 5. időpontban menjen az 2. műtőbe\n",
      "D2 az 6. időpontban menjen az 1. műtőbe\n",
      "D2 az 7. időpontban menjen az 2. műtőbe\n",
      "D3 az 1. időpontban menjen az 2. műtőbe\n",
      "D3 az 2. időpontban menjen az 1. műtőbe\n",
      "D3 az 3. időpontban menjen az 3. műtőbe\n",
      "D3 az 4. időpontban menjen az 3. műtőbe\n",
      "D3 az 5. időpontban menjen az 2. műtőbe\n",
      "D3 az 6. időpontban menjen az 2. műtőbe\n",
      "D4 az 1. időpontban menjen az 2. műtőbe\n",
      "D4 az 4. időpontban menjen az 3. műtőbe\n",
      "D4 az 7. időpontban menjen az 2. műtőbe\n",
      "D5 az 4. időpontban menjen az 2. műtőbe\n",
      "D5 az 6. időpontban menjen az 2. műtőbe\n",
      "D6 az 2. időpontban menjen az 3. műtőbe\n",
      "D6 az 3. időpontban menjen az 3. műtőbe\n",
      "D6 az 5. időpontban menjen az 1. műtőbe\n",
      "D6 az 7. időpontban menjen az 3. műtőbe\n",
      "\n",
      "\n",
      " A gépek beosztása: \n",
      "\n",
      "G1 gép az 1. időpontban legyen a 1. műtőben\n",
      "G1 gép az 4. időpontban legyen a 1. műtőben\n",
      "G1 gép az 7. időpontban legyen a 3. műtőben\n",
      "G2 gép az 1. időpontban legyen a 3. műtőben\n",
      "G2 gép az 4. időpontban legyen a 2. műtőben\n",
      "G2 gép az 7. időpontban legyen a 1. műtőben\n",
      "G3 gép az 2. időpontban legyen a 2. műtőben\n",
      "G3 gép az 5. időpontban legyen a 3. műtőben\n",
      "G4 gép az 3. időpontban legyen a 2. műtőben\n",
      "G4 gép az 6. időpontban legyen a 3. műtőben\n",
      "G5 gép az 1. időpontban legyen a 2. műtőben\n",
      "G5 gép az 4. időpontban legyen a 3. műtőben\n",
      "G5 gép az 7. időpontban legyen a 2. műtőben\n",
      "G6 gép az 3. időpontban legyen a 3. műtőben\n",
      "G6 gép az 6. időpontban legyen a 1. műtőben\n",
      "G7 gép az 3. időpontban legyen a 1. műtőben\n",
      "G7 gép az 6. időpontban legyen a 2. műtőben\n",
      "G8 gép az 2. időpontban legyen a 1. műtőben\n",
      "G8 gép az 5. időpontban legyen a 1. műtőben\n",
      "G9 gép az 2. időpontban legyen a 3. műtőben\n",
      "G9 gép az 5. időpontban legyen a 2. műtőben\n"
     ]
    }
   ],
   "source": [
    "#Print schedule\n",
    "\n",
    "print(\"Páciensek beosztása: \\n\")\n",
    "for n in range(20):\n",
    "    for i in range(40):\n",
    "        for m in range(3):\n",
    "            if var_p[str([i,m,n])].value()==1:\n",
    "                print(P_index[n]+\" az \"+str(i+1)+\". időpontban menjen az \"+str(m+1)+\". műtőbe\")\n",
    "                \n",
    "print(\"\\n\\n Az orvosok beosztása: \\n\")\n",
    "for n in range(7):\n",
    "    for i in range(40):\n",
    "        for m in range(3):\n",
    "            if var_o[str([i,m,n])].value()==1:\n",
    "                print(O_index[n]+\" az \"+str(i+1)+\". időpontban menjen az \"+str(m+1)+\". műtőbe\")\n",
    "                \n",
    "print(\"\\n\\n A gépek beosztása: \\n\")\n",
    "for n in range(9):\n",
    "    for i in range(40):\n",
    "        for m in range(3):\n",
    "            if var_g[str([i,m,n])].value()==1:\n",
    "                print(G_index[n]+\" gép az \"+str(i+1)+\". időpontban legyen a \"+str(m+1)+\". műtőben\")\n",
    "                \n",
    "\n",
    "                \n",
    "\n"
   ]
  }
 ],
 "metadata": {
  "kernelspec": {
   "display_name": "Python 3 (ipykernel)",
   "language": "python",
   "name": "python3"
  },
  "language_info": {
   "codemirror_mode": {
    "name": "ipython",
    "version": 3
   },
   "file_extension": ".py",
   "mimetype": "text/x-python",
   "name": "python",
   "nbconvert_exporter": "python",
   "pygments_lexer": "ipython3",
   "version": "3.9.7"
  }
 },
 "nbformat": 4,
 "nbformat_minor": 5
}
