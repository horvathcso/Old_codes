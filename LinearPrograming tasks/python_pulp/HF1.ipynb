{
 "cells": [
  {
   "cell_type": "code",
   "execution_count": 1,
   "id": "ffa20429",
   "metadata": {},
   "outputs": [],
   "source": [
    "from pulp import *\n",
    "import pandas as pd\n",
    "import numpy as np"
   ]
  },
  {
   "cell_type": "code",
   "execution_count": 2,
   "id": "54517c14",
   "metadata": {},
   "outputs": [],
   "source": [
    "#Data\n",
    "\n",
    "#Variables name and costs\n",
    "variable_names = [\"1\",\"2\",\"3\",\"4\"]\n",
    "price_of_prod=np.array([300,200,100,150])\n",
    "\n",
    "#Bound matrix\n",
    "bounds=np.array([[5,3,3,2],\n",
    "         [1,3,6,0],\n",
    "         [2,3,3,2]])\n",
    "bounds_val=[1000,2500,600]\n"
   ]
  },
  {
   "cell_type": "code",
   "execution_count": 3,
   "id": "d0d6588c",
   "metadata": {},
   "outputs": [
    {
     "name": "stdout",
     "output_type": "stream",
     "text": [
      "Bakery-profit-task:\n",
      "MAXIMIZE\n",
      "300*A_1 + 200*A_2 + 100*A_3 + 150*A_4 + 0\n",
      "SUBJECT TO\n",
      "bounds_to_T_1: 5 A_1 + 3 A_2 + 3 A_3 + 2 A_4 <= 1000\n",
      "\n",
      "bounds_to_T_2: A_1 + 3 A_2 + 6 A_3 <= 2500\n",
      "\n",
      "bounds_to_T_3: 2 A_1 + 3 A_2 + 3 A_3 + 2 A_4 <= 600\n",
      "\n",
      "VARIABLES\n",
      "0 <= A_1 Integer\n",
      "0 <= A_2 Integer\n",
      "0 <= A_3 Integer\n",
      "0 <= A_4 Integer\n",
      "\n"
     ]
    }
   ],
   "source": [
    "#Modell\n",
    "model = LpProblem(\"Bakery-profit-task\", LpMaximize)\n",
    "\n",
    "#Optimisation objective\n",
    "allocation=np.array(LpVariable.matrix(\"A\", variable_names, cat=\"Integer\", lowBound=0))\n",
    "model += lpSum(allocation*price_of_prod)\n",
    "\n",
    "# Boundary\n",
    "for i,e in enumerate(bounds):\n",
    "    model += lpSum(allocation[id]*it for id,it in enumerate(e)) <= bounds_val[i] , \"bounds to T_\"+str(i+1) \n",
    "\n",
    "model.writeLP(\"HF1.lp\")\n",
    "print(model)\n"
   ]
  },
  {
   "cell_type": "code",
   "execution_count": 4,
   "id": "455b179d",
   "metadata": {
    "scrolled": true
   },
   "outputs": [
    {
     "name": "stdout",
     "output_type": "stream",
     "text": [
      "Optimal\n"
     ]
    }
   ],
   "source": [
    "# Run optimisation\n",
    "model.solve(PULP_CBC_CMD())\n",
    "\n",
    "status =  LpStatus[model.status]\n",
    "\n",
    "print(status)"
   ]
  },
  {
   "cell_type": "code",
   "execution_count": 5,
   "id": "078b47f0",
   "metadata": {},
   "outputs": [
    {
     "name": "stdout",
     "output_type": "stream",
     "text": [
      "The max profit is:  64950.0\n",
      "A_1 = 133.0\n",
      "A_2 = 0.0\n",
      "A_3 = 0.0\n",
      "A_4 = 167.0\n"
     ]
    }
   ],
   "source": [
    "# Data out:\n",
    "print(\"The max profit is: \", model.objective.value())\n",
    "\n",
    "for v in model.variables():\n",
    "    try:\n",
    "        print(v.name,\"=\", v.value())\n",
    "    except:\n",
    "        print(\"error couldnt find value\")"
   ]
  },
  {
   "cell_type": "code",
   "execution_count": 6,
   "id": "32dcd685",
   "metadata": {},
   "outputs": [
    {
     "name": "stdout",
     "output_type": "stream",
     "text": [
      "Optimal\n"
     ]
    },
    {
     "name": "stderr",
     "output_type": "stream",
     "text": [
      "C:\\Users\\Csoni\\AppData\\Roaming\\Python\\Python39\\site-packages\\pulp\\pulp.py:1704: UserWarning: Overwriting previously set objective.\n",
      "  warnings.warn(\"Overwriting previously set objective.\")\n"
     ]
    }
   ],
   "source": [
    "# Part B redefine optimisation objective and solve again:\n",
    "model += lpSum(allocation*np.ones_like(allocation))\n",
    "model.solve(PULP_CBC_CMD())\n",
    "print(LpStatus[model.status])"
   ]
  },
  {
   "cell_type": "code",
   "execution_count": 7,
   "id": "d6e1e830",
   "metadata": {},
   "outputs": [
    {
     "name": "stdout",
     "output_type": "stream",
     "text": [
      "Max nr of products:  300.0\n",
      "A_1 = 133.0\n",
      "A_2 = 0.0\n",
      "A_3 = 0.0\n",
      "A_4 = 167.0\n"
     ]
    }
   ],
   "source": [
    "# Data out:\n",
    "print(\"Max nr of products: \", model.objective.value())\n",
    "\n",
    "for v in model.variables():\n",
    "    try:\n",
    "        print(v.name,\"=\", v.value())\n",
    "    except:\n",
    "        print(\"error couldnt find value\")"
   ]
  }
 ],
 "metadata": {
  "kernelspec": {
   "display_name": "Python 3.9.7 ('base')",
   "language": "python",
   "name": "python3"
  },
  "language_info": {
   "codemirror_mode": {
    "name": "ipython",
    "version": 3
   },
   "file_extension": ".py",
   "mimetype": "text/x-python",
   "name": "python",
   "nbconvert_exporter": "python",
   "pygments_lexer": "ipython3",
   "version": "3.9.7"
  },
  "vscode": {
   "interpreter": {
    "hash": "ad2bdc8ecc057115af97d19610ffacc2b4e99fae6737bb82f5d7fb13d2f2c186"
   }
  }
 },
 "nbformat": 4,
 "nbformat_minor": 5
}
