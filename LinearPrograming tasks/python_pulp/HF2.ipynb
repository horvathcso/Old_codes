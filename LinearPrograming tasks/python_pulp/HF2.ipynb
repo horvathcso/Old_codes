{
 "cells": [
  {
   "cell_type": "code",
   "execution_count": 1,
   "id": "e5c0eaaf",
   "metadata": {},
   "outputs": [],
   "source": [
    "from pulp import *\n",
    "import pandas as pd\n",
    "import numpy as np"
   ]
  },
  {
   "cell_type": "code",
   "execution_count": 2,
   "id": "98ef648f",
   "metadata": {},
   "outputs": [],
   "source": [
    "#Variables name and costs\n",
    "variable_names = [\"1\",\"2\",\"3\",\"4\",\"5\",\"6\",\"7\",\"8\",\"9\",\"io\"]\n",
    "price=np.array([2,4,2,2,1,2,7,2,2,2])"
   ]
  },
  {
   "cell_type": "code",
   "execution_count": 3,
   "id": "1b62b75e",
   "metadata": {},
   "outputs": [
    {
     "name": "stderr",
     "output_type": "stream",
     "text": [
      "C:\\Users\\Csoni\\AppData\\Roaming\\Python\\Python39\\site-packages\\pulp\\pulp.py:1352: UserWarning: Spaces are not permitted in the name. Converted to '_'\n",
      "  warnings.warn(\"Spaces are not permitted in the name. Converted to '_'\")\n"
     ]
    }
   ],
   "source": [
    "#Modell\n",
    "model = LpProblem(\"Ütemezési feladat\", LpMinimize)\n",
    "\n",
    "#változók: Minden lépésre (sorszám a feladatban szereplés alapján) rendelünk egy kezdő és befejezési értéket, amik különbségét meghatározzuk\n",
    "allocation=np.array(LpVariable.matrix(\"X\", [i+e for i in [\"S_\",\"F_\"] for e in variable_names],cat=\"Integer\", lowBound=0))\n",
    "# Ütemezési feltételek, mi\n",
    "for i in range(len(price)):\n",
    "    model += allocation[i] + price[i] <= allocation[i+len(price)]\n",
    "    model += allocation[i] + price[i] >= allocation[i+len(price)]\n",
    "    \n",
    "\n",
    "#Ütemezési feltételek, ahol megadjuke a kezdő és végértékek relációját, mi mi után kell jöjjön\n",
    "model += allocation[1]>=allocation[0+len(price)]  , \"hagyma_pucol-felvág\"\n",
    "model += allocation[3]>=allocation[1+len(price)]  , \"hagyma_felvág-párolás\"\n",
    "model += allocation[3]>=allocation[2+len(price)]  , \"olaj-párolás\"\n",
    "model += allocation[5]>=allocation[4+len(price)]  , \"tojás_tör-felver\"\n",
    "model += allocation[6]>=allocation[3+len(price)]  , \"párol-tojássüt\"\n",
    "model += allocation[6]>=allocation[5+len(price)]  , \"tojásver-tojássüt\"\n"
   ]
  },
  {
   "cell_type": "code",
   "execution_count": 4,
   "id": "79233589",
   "metadata": {},
   "outputs": [
    {
     "name": "stderr",
     "output_type": "stream",
     "text": [
      "C:\\Users\\Csoni\\AppData\\Roaming\\Python\\Python39\\site-packages\\pulp\\pulp.py:1711: UserWarning: Overwriting previously set objective.\n",
      "  warnings.warn(\"Overwriting previously set objective.\")\n"
     ]
    },
    {
     "name": "stdout",
     "output_type": "stream",
     "text": [
      "Az optimális ütemezési idővel ennyi időre van szükség: 15.0\n",
      "Egy optimális ütemezés, ahol az X_F_i az i-edik ferladat befejezési ideje a listában és X_S_i ennek a feladatnak a kezdésideje\n",
      "X_F_1  =  2.0\n",
      "X_F_2  =  6.0\n",
      "X_F_3  =  2.0\n",
      "X_F_4  =  8.0\n",
      "X_F_5  =  1.0\n",
      "X_F_6  =  3.0\n",
      "X_F_7  =  15.0\n",
      "X_F_8  =  2.0\n",
      "X_F_9  =  2.0\n",
      "X_F_io  =  2.0\n",
      "X_S_1  =  0.0\n",
      "X_S_2  =  2.0\n",
      "X_S_3  =  0.0\n",
      "X_S_4  =  6.0\n",
      "X_S_5  =  0.0\n",
      "X_S_6  =  1.0\n",
      "X_S_7  =  8.0\n",
      "X_S_8  =  0.0\n",
      "X_S_9  =  0.0\n",
      "X_S_io  =  0.0\n"
     ]
    }
   ],
   "source": [
    "#Megoldás keresés és eredmények kiiratása\n",
    "list_of_end_times=[]\n",
    "pairs=[]\n",
    "for i in range(10):\n",
    "    model += allocation[i+len(price)]\n",
    "    model.solve()\n",
    "    list_of_end_times.append(model.variables()[i].value())\n",
    "    pairs.append([model.variables()[i].value(),i])\n",
    "print(\"Az optimális ütemezési idővel ennyi időre van szükség: \"+str(max(list_of_end_times)))\n",
    "for i in range(10):\n",
    "    if list_of_end_times[i]==max(list_of_end_times):\n",
    "        break\n",
    "print(\"Egy optimális ütemezés, ahol az X_F_i az i-edik ferladat befejezési ideje a listában és X_S_i ennek a feladatnak a kezdésideje\")\n",
    "model += allocation[i+len(price)]\n",
    "model.solve()\n",
    "for v in model.variables():\n",
    "    try:\n",
    "        print(v.name, \" = \",v.value())\n",
    "    except:\n",
    "        print(\"error couldnt find value\")\n",
    "    "
   ]
  },
  {
   "cell_type": "code",
   "execution_count": 5,
   "id": "8181ae84",
   "metadata": {},
   "outputs": [],
   "source": [
    "# Kritikus utat lehetne mélységi kereséssel keresni\n",
    "# Megnézzük, mik fejeződtek be az utolsó folyamat kezdési idelyében és hogy az feltétele volt-e az utolsó folyamat elkezdésének\n",
    "\n",
    "# Ehhez először tároljuk a rákövetkezési feltételeket egy tömbben:\n",
    "feltetelek=[[1,0+len(price)],[3,1+len(price)],[3,2+len(price)],[5,4+len(price)],[6,3+len(price)],[6,5+len(price)]]\n",
    "\n",
    "\n",
    "lis=[]\n",
    "\n",
    "def search(model, feltetelek, max_ind, price,lis):\n",
    "    if int(model.variables()[max_ind+len(price)].value())==0:\n",
    "        lis.append(max_ind+1)\n",
    "        return lis\n",
    "    for j in range(len(price)):\n",
    "        if model.variables()[j].value()==model.variables()[max_ind+len(price)].value():\n",
    "            if [max_ind,j+len(price)] in feltetelek:\n",
    "                lis.append(max_ind+1)\n",
    "                search(model,feltetelek,j,price,lis)\n",
    "    return lis"
   ]
  },
  {
   "cell_type": "code",
   "execution_count": 6,
   "id": "09a62dcb",
   "metadata": {
    "scrolled": true
   },
   "outputs": [
    {
     "name": "stdout",
     "output_type": "stream",
     "text": [
      "Egy kritikus úton lévő feladatok sorszámai: [7, 4, 2, 1]\n"
     ]
    }
   ],
   "source": [
    "print(\"Egy kritikus úton lévő feladatok sorszámai:\",search(model,feltetelek,i,price,lis))"
   ]
  }
 ],
 "metadata": {
  "kernelspec": {
   "display_name": "Python 3 (ipykernel)",
   "language": "python",
   "name": "python3"
  },
  "language_info": {
   "codemirror_mode": {
    "name": "ipython",
    "version": 3
   },
   "file_extension": ".py",
   "mimetype": "text/x-python",
   "name": "python",
   "nbconvert_exporter": "python",
   "pygments_lexer": "ipython3",
   "version": "3.9.7"
  }
 },
 "nbformat": 4,
 "nbformat_minor": 5
}
